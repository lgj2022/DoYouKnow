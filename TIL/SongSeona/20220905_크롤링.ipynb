{
 "cells": [
  {
   "cell_type": "code",
   "execution_count": null,
   "id": "416db54b",
   "metadata": {},
   "outputs": [],
   "source": [
    "pip install googletrans==4.0.0-rc1"
   ]
  },
  {
   "cell_type": "markdown",
   "id": "400f775e",
   "metadata": {},
   "source": [
    "### 필요사항\n",
    "- 번역 정확도 높이기\n",
    "- 파파고 번역기 api 사용후 글 확인 (일본, 프랑스)\n",
    "- 전처리 과정"
   ]
  },
  {
   "cell_type": "code",
   "execution_count": 1,
   "id": "636665ba",
   "metadata": {},
   "outputs": [],
   "source": [
    "import nltk\n",
    "#nltk.download(\"book\", quiet=True)\n",
    "#from nltk.book import *\n",
    "from nltk.tokenize import sent_tokenize\n",
    "from nltk.tokenize import word_tokenize\n",
    "from nltk.tokenize import RegexpTokenizer\n",
    "from nltk.tag import pos_tag\n",
    "# from textblob import TextBlob\n",
    "from urllib.parse import quote_plus\n",
    "from bs4 import BeautifulSoup\n",
    "from selenium import webdriver\n",
    "import googletrans\n",
    "\n",
    "def Url(search):\n",
    "  #  url_temp = 'https://www.google.com/search?q=%7Bsearch%7D&tbm=nws%27.format(search=search)\n",
    "#     url_temp = 'https://search.mt.co.kr/searchNewsList.html?srchFd=TOTAL&range=IN&reSrchFlag=&preKwd=&search_type=m&kwd=%7Bsearch%7D&bgndt=20190401&enddt=20190930&category=MTNW&sortType=allwordsyn&subYear=&category=MTNW&subType=mt%27.format(search=search)\n",
    "    for pageNo in range(1,10,10):\n",
    "        url = url_temp + \"&start={pageNo}\".format(pageNo=pageNo)\n",
    "        driver = webdriver.Chrome()\n",
    "        driver.get(url)\n",
    "\n",
    "        html = driver.page_source\n",
    "        soup = BeautifulSoup(html)\n",
    "\n",
    "        news_urls = []\n",
    "        # 검색 했을 때 제목과 breadcrumbs, 접속주소를 가져올 것이다.\n",
    "        # #search>div>div>div>div>div\n",
    "        list = soup.select('#search .MjjYud>div>div>div')\n",
    "        if not list:\n",
    "            print(\"없어어어어어어엉~\")\n",
    "            break\n",
    "\n",
    "        for i in list:\n",
    "            if i.select_one('div>a>div>div:nth-child(2)>div:nth-child(2)'):\n",
    "                news_urls.append(i.select_one(\".WlydOe\").get(\"href\"))\n",
    "#                 print(i.select_one('div>a>div>div:nth-child(2)>div:nth-child(2)').attrs)\n",
    "#                 print(i.select_one('.iRPxbe>div:nth-child(2)').text)\n",
    "            else:\n",
    "                print(\"text 속성 없어어어어어어엉~\")\n",
    "        print(news_urls)\n",
    "        if not news_urls:\n",
    "            break"
   ]
  },
  {
   "cell_type": "code",
   "execution_count": 2,
   "id": "9d750228",
   "metadata": {},
   "outputs": [],
   "source": [
    "def news(news_urls):\n",
    "    translator = googletrans.Translator() # 번역하는 함수\n",
    "    for url_no in news_urls:\n",
    "        print(url_no)\n",
    "        driver = webdriver.Chrome()\n",
    "        driver.get(url_no)\n",
    "        html = driver.page_source\n",
    "        soup = BeautifulSoup(html)\n",
    "\n",
    "        str = \"\" # p 태그의 내용을 담는 변수\n",
    "        result = \"\" # 영어로 변환하여 저장할 변수\n",
    "        for text in soup.findAll(\"p\"): # soup의 모든 p 태그를 처리\n",
    "            str += text.get_text() + \"\\n\" \n",
    "            if(len(str)>1000): # 번역을 위해서 str의 글자수가 1000자보다 넘을 경우에만 번역 실행\n",
    "                # 영어로 변환, 정확도를 위해서 어떤 언어인지 알려주는 것도 좋음\n",
    "                # ref: https://coding-kindergarten.tistory.com/98\n",
    "#                 result1 = translator.translate(str, dest='ko')\n",
    "                print(str)\n",
    "                result += translate(str)\n",
    "#                 result += result1.text.replace(\" -\", \"-\").replace(\"- \", \"-\")\n",
    "                str = \"\"\n",
    "        \n",
    "        # 마지막으로 남아있는 문장 번역\n",
    "        if str !=\"\":\n",
    "            result += translate(str)\n",
    "#             result1 = translator.translate(str, dest='ko')\n",
    "#             result += result1.text.replace(\" -\", \"-\").replace(\"- \", \"-\")\n",
    "        return result"
   ]
  },
  {
   "cell_type": "code",
   "execution_count": 3,
   "id": "a430792a",
   "metadata": {},
   "outputs": [],
   "source": [
    "import json\n",
    "import os\n",
    "import sys\n",
    "import urllib.request\n",
    "client_id = \"6yrWrXVyj5VaRKnqi_fv\"\n",
    "client_secret = \"i9h16BCiqz\"\n",
    "\n",
    "url = \"https://openapi.naver.com/v1/papago/n2mt\"\n",
    "request = urllib.request.Request(url)\n",
    "request.add_header(\"X-Naver-Client-Id\",client_id)\n",
    "request.add_header(\"X-Naver-Client-Secret\",client_secret)\n",
    "\n",
    "def translate(str):\n",
    "    encText = urllib.parse.quote(str)\n",
    "    data = \"source=ja&target=en&text=\" + encText\n",
    "    response = urllib.request.urlopen(request, data=data.encode(\"utf-8\"))\n",
    "    rescode = response.getcode()\n",
    "    if(rescode==200):\n",
    "        response_body = response.read()\n",
    "        result = json.loads(response_body.decode('utf-8'))\n",
    "        return result['message']['result']['translatedText']\n",
    "#         print(result['message']['result']['translatedText'])\n",
    "    #     print(response_body.decode('utf-8'))\n",
    "    else:\n",
    "        print(\"Error Code:\" + rescode)"
   ]
  },
  {
   "cell_type": "code",
   "execution_count": 4,
   "id": "97040d7b",
   "metadata": {},
   "outputs": [],
   "source": [
    "def news(news_urls):\n",
    "    translator = googletrans.Translator() # 번역하는 함수\n",
    "    for url_no in news_urls:\n",
    "        print(url_no)\n",
    "        driver = webdriver.Chrome()\n",
    "        driver.get(url_no)\n",
    "        html = driver.page_source\n",
    "        soup = BeautifulSoup(html)\n",
    "\n",
    "        str = \"\" # p 태그의 내용을 담는 변수\n",
    "        result = \"\" # 영어로 변환하여 저장할 변수\n",
    "        for text in soup.findAll(\"p\"): # soup의 모든 p 태그를 처리\n",
    "            str += text.get_text() + \"\\n\" \n",
    "            if(len(str)>1000): # 번역을 위해서 str의 글자수가 1000자보다 넘을 경우에만 번역 실행\n",
    "                # 영어로 변환, 정확도를 위해서 어떤 언어인지 알려주는 것도 좋음\n",
    "                # ref: https://coding-kindergarten.tistory.com/98\n",
    "                result1 = translator.translate(str, src='ja', dest='en') \n",
    "                result += result1.text.replace(\" -\", \"-\").replace(\"- \", \"-\")\n",
    "                str = \"\"\n",
    "        \n",
    "        # 마지막으로 남아있는 문장 번역\n",
    "        if str !=\"\":\n",
    "            result1 = translator.translate(str, src='ja', dest='en')\n",
    "            result += result1.text.replace(\" -\", \"-\").replace(\"- \", \"-\")\n",
    "        return result"
   ]
  },
  {
   "cell_type": "code",
   "execution_count": 130,
   "id": "d20f8766",
   "metadata": {
    "scrolled": true
   },
   "outputs": [
    {
     "name": "stdout",
     "output_type": "stream",
     "text": [
      "https://news.yahoo.co.jp/articles/45e111649f3f3c7029f0276d90fef6f49631a5fc\n"
     ]
    },
    {
     "data": {
      "text/plain": [
       "'\"I was also the perpetrator?\" The problem that the movie asks Utamaru again\\n\"#I\\'m disaster prevention\" gifts to protect loved ones\\n[Emergency support] Please support the Pakistan flood damage donation\\nGet the right knowledge in preparation for typhoons and heavy rains in the disaster prevention quiz!\\nEvacuation drills that can be learned in typhoons and torrential rains in 3 minutes\\nJ-League Yahoo joint project \"Sonael JAPAN Cup\" is being held\\n\\nkeyword:\\n\\nsearch\\n\\n\\n\\nA new acquisition with ID\\nLogin [Weekend] Gold coupon is being distributed\\nJavaScript is currently disabled\\nEnable JavaScript settings to use all the functions of Yahoo! News. Click here for how to change the JavaScript settings\\n8/19 (Fri) 19:20 Delivery\\nInstagram /@Eunbining0904\\nA Korean drama \"U-Yongu Lawyer is a genius skin\", which depicts a new lawyer with autism spectrums, growing, and has a great response in Japan.\\n\\n[Photo] Beautiful and unique! \"Popular Korean actress\" that I want to know only this\\n\\nIt is clear that this work, which was set up with a maximum audience rating of 17.5 % on August 18, has a possibility of Season 2 as soon as possible!\\n\\n* Some spoilers are included in this article\\nAccording to a report from the Korean media on August 17, Lee Sanbek, a representative of A Story, a production company of \"U-yong-woo is a genius skin\", will \"make a lot of cheers and create Season 2.\" Suggests the possibility of.\\n\\nWhile saying, \"It is difficult to adjust the schedule of casts and production teams and we need to repeat discussions,\" he said, \"The goal is to keep 90 % of the crew as it is unless there is a big change.\" I also confess that it is ideal.\\nInstagram /@booboo2injo\\nIn response to the statement of Lee Sanbek, the drama official commented on the Korean media carefully commented on the Korean media. However, \"The scriptwriter Moon Ji-won and Yu Insok are positive attitude\", and the possibilities of Season 2 are certainly talked about among the production teams!\\n\\nRegarding the cast members who are worried, they are aiming for more than 90 % or more, but at this time there are no concrete discussions.\\n\\nIn particular, Kang Teo, the role of Lee Juno, who played a big break in this work, is preparing to enlist, and his office, Man of Creation, is still in concrete. Because there is no content, there is no content to be told. \"Instagram/@channel.ena.d\\nOn the other hand, Kang Guillon, who played the role of Boss Jung Myung-suk, who gently watched U-Yong-woo, revealed her motivation for Season 2 in an interview with the Korean media.\\nInstagram /@ booboo2injo\\n\"I was talking about Season 2 even when I was cautious. The atmosphere of the drama shooting site was very good, and I felt like I wanted to feel this feeling again.\"\\n\\n\"If you can call me, of course, I will appear. But from the end, there may not be much of my appearance (laughs).\"\\n\\nJu Jong Hyuk, who played a good colleague, Kwon Minu, who burned his rivalry, commented on the radio that appeared on the 19th, saying, \"I felt the possibility of Season 2.\"\\nInstagram /@joojong_\\n\"When I read the final script, I thought there might be Season 2.\\n\\nThis work has already been decided for web comics and musicals. I want you to realize the sequel with the cast of Season 1!\\nHow was this article? Let\\'s support with reaction\\nNetflix Korean Dora \"Lawyer is a genius skin\" Global 1st place talks about the significance of \"great success\"\\nEncount8/31 (Wed) 20:13\\n\"U-yong-woo is a genius skin.\" Kang Gi-yeon \"Response to the work ... I felt like I was dreaming.\"\\nKSTYLE9/1 (Thu) 18:54\\nKang Teo announces the enlistment on September 20 in a fan meeting ... \"U-yongu is a genius skin\" from a huge hit to the army\\nKSTYLE9/1 (Thu) 9:36\\nPossibility of resurrection? Track the now of the \"KARA\" member who has built the times\\nCosmopolitan 8/31 (Wed) 21:00\\nThe 50 billion yen earned by Pink Lady for 4 years and 7 months, to the darkness, declining red and white of shock, betting on the United States\\nIn \"Asao\", Soichiro Tahara asked a direct ball to a member of the Komeito Party \"What is the difference between the Unification Church and Soka Gakkai?\"\\n\"White in my head for a real discovery\" for 2,000 years from Yayoi to the Meiji era, remains traces of life\\nMr. Hiroyuki\\'s wife, Yuka-san, a designated intractable disease / shaglen syndrome appeal to the pain of the symptoms that reveal\\nFuji Tsutsumi Reimi Ana has an actress-like shot in a photo book, \"I took a photo of my own beauty\"\\nTeruyuki Kagawa Why was the trouble reported three years ago ... Ginza\\'s luxury club \"Hostesses\\' Realization\"The pear garden, which has a sweet parameter of Teruyuki Kagawa, is a female problem.\\nTakashi Sorimachi & Yutaka Takenouchi, \"Beach Boys\" combination in Arafif\\n\"This time\" Nogizaka \"official rival\", the parent of AKB, Yasushi Akimoto (64) produces the \"National idol group\" again! What is Avex for planning, planning, and adjustment?\\n\"I can\\'t be serious\" \"Lassen\" \"Rich scene with Naomi Kawashima\" ... \"Tips for Love Scenes\" talked by famous actor Kazuho Furuya.\\n[Graduated by the end of the year] Jun and Ryohei Odai, a new member is also a word.\\nAi Tominaga\\'s son, Akitane Tominaga, has a full-fledged model debut his 179 cm x 188 cm parent-child co-starring \"Reverse his mother\"\\nWhen I was a child, it was really poor and trauma. The actual situation of \"child poverty\" that Fumio Umezawa talks about\\n[Breaking news] Non-style Yusuke Inoue (42) Marriage partner is a younger general woman\\nMiki Imai, how to make use of the trial and error singer experience in her narration recording in London.\\nPayPay balance can be used\\nNot only sexual harassment, both assault and power harassment \"Teruyuki Kagawa\" Real Face \"\\n330 yen including tax\\nArashi / Aiba visits on television 24 hours a day to \"Animal Protection Organization\".\\n110 yen including tax\\nA person who lent his hand illegally over the long period of illegal dumping of the defective housing \"Leopalace\"\\n330 yen including tax\\nKaoru Yachigusa, who overlaps with Hayao Miyazaki\\'s heroine, is at the root of the \"girl with a sense of life\" (Toshio Suzuki)\\n110 yen including tax\\nRun a dead Gorbachev and Ellizin, a living Putin\\n330 yen including tax\\nCopyright © 2022 HEARST FUJINGAHO Unauthorized reproduction is prohibited.'"
      ]
     },
     "execution_count": 130,
     "metadata": {},
     "output_type": "execute_result"
    }
   ],
   "source": [
    "news(['https://news.yahoo.co.jp/articles/45e111649f3f3c7029f0276d90fef6f49631a5fc'])"
   ]
  },
  {
   "cell_type": "code",
   "execution_count": 134,
   "id": "80dfc7e0",
   "metadata": {},
   "outputs": [
    {
     "data": {
      "text/plain": [
       "'Jung Myung-Suk 보스'"
      ]
     },
     "execution_count": 134,
     "metadata": {},
     "output_type": "execute_result"
    }
   ],
   "source": [
    "translator = googletrans.Translator() # 번역하는 함수\n",
    "translator.translate('Boss Jung Myung-suk', src='en', dest='ko').text"
   ]
  },
  {
   "cell_type": "code",
   "execution_count": 5,
   "id": "50eaae5e",
   "metadata": {},
   "outputs": [],
   "source": [
    "import spacy"
   ]
  },
  {
   "cell_type": "code",
   "execution_count": 49,
   "id": "43e84e68",
   "metadata": {},
   "outputs": [
    {
     "name": "stdout",
     "output_type": "stream",
     "text": [
      "================================================================================\n",
      "                          Text      Root Text       Root Dep      Root Head Text\n",
      "================================================================================\n",
      "   korean drama u-yongu lawyer         lawyer          nsubj                  is\n",
      "                 a genius skin           skin           attr                  is\n",
      "                         which          which          nsubj             depicts\n",
      "                  a new lawyer         lawyer           dobj             depicts\n",
      "              autism spectrums      spectrums           pobj                with\n",
      "              a great response       response           dobj                 has\n",
      "                         japan          japan           pobj                  in\n"
     ]
    }
   ],
   "source": [
    "import spacy\n",
    "import re\n",
    "\n",
    "nlp = spacy.load('en_core_web_md')\n",
    "# text = 'Yuh-jung Youn won the Oscar for best supporting actress for her performance in \"Minari\" on Sunday and made history by becoming the first Korean actor to win an Academy Award.'\n",
    "text = 'Korean drama \"U-Yongu Lawyer is a genius skin\", which depicts a new lawyer with autism spectrums, growing, and has a great response in Japan.'\n",
    "# text = '\"I was also the perpetrator?\" The problem that the movie asks Utamaru again'\n",
    "# text = re.sub('\"[^a-zA-Z]\"', ' ', text)\n",
    "text = text.replace('\\\"', \"\")\n",
    "text = text.lower()\n",
    "doc = nlp(text)\n",
    "\n",
    "noun_chunks = doc.noun_chunks\n",
    "\n",
    "print(\"==\"*40)\n",
    "str_format = \"{:>30}{:>15}{:>15}{:>20}\"\n",
    "print(str_format.format('Text', 'Root Text', 'Root Dep', 'Root Head Text'))\n",
    "print(\"==\"*40)\n",
    "\n",
    "data = []\n",
    "for chunk in doc.noun_chunks:\n",
    "    data.append(chunk.text)\n",
    "    print(str_format.format(chunk.text, chunk.root.text, chunk.root.dep_, chunk.root.head.text))"
   ]
  },
  {
   "cell_type": "code",
   "execution_count": 50,
   "id": "28e97714",
   "metadata": {},
   "outputs": [],
   "source": [
    "data\n",
    "result = []\n",
    "for token in data:\n",
    "    result.append(token.split())\n",
    "\n",
    "stops = set(stopwords.words('english'))\n",
    "\n",
    "for data in result:\n",
    "    for word in data:\n",
    "        if word in stops:\n",
    "            data.remove(word)"
   ]
  },
  {
   "cell_type": "code",
   "execution_count": 51,
   "id": "946886b6",
   "metadata": {},
   "outputs": [
    {
     "name": "stdout",
     "output_type": "stream",
     "text": [
      "[('korean', 'JJ'), ('drama', 'NN'), ('u-yongu', 'JJ'), ('lawyer', 'NN')]\n",
      "[('genius', 'NN'), ('skin', 'NN')]\n",
      "[]\n",
      "[('new', 'JJ'), ('lawyer', 'NN')]\n",
      "[('autism', 'NN'), ('spectrums', 'NNS')]\n",
      "[('great', 'JJ'), ('response', 'NN')]\n",
      "[('japan', 'NN')]\n"
     ]
    }
   ],
   "source": [
    "for data in result:\n",
    "    print(nltk.pos_tag(data))"
   ]
  },
  {
   "cell_type": "markdown",
   "id": "95eaad2b",
   "metadata": {},
   "source": [
    "- pos: n(명사), v(동사), a(형용사), r(부사), satellite adjectives(s)"
   ]
  },
  {
   "cell_type": "code",
   "execution_count": null,
   "id": "ca8daecc",
   "metadata": {},
   "outputs": [],
   "source": []
  },
  {
   "cell_type": "code",
   "execution_count": 12,
   "id": "8c812510",
   "metadata": {
    "scrolled": true
   },
   "outputs": [],
   "source": [
    "from nltk.corpus import stopwords\n",
    " \n",
    "# 불용어 제거\n",
    "stops = set(stopwords.words('english'))\n",
    "no_stops = [word for word in data if not word in stops]"
   ]
  },
  {
   "cell_type": "code",
   "execution_count": 13,
   "id": "049e9224",
   "metadata": {},
   "outputs": [
    {
     "data": {
      "text/plain": [
       "['the perpetrator', 'the problem', 'the movie', 'utamaru']"
      ]
     },
     "execution_count": 13,
     "metadata": {},
     "output_type": "execute_result"
    }
   ],
   "source": [
    "no_stops"
   ]
  },
  {
   "cell_type": "code",
   "execution_count": 10,
   "id": "f5e828aa",
   "metadata": {},
   "outputs": [
    {
     "data": {
      "text/plain": [
       "' i was also the perpetrator   the problem that the movie asks utamaru again'"
      ]
     },
     "execution_count": 10,
     "metadata": {},
     "output_type": "execute_result"
    }
   ],
   "source": [
    "import re\n",
    "\n",
    "# nlp = spacy.load('en_core_web_md')\n",
    "# text = 'Yuh-jung Youn won the Oscar for best supporting actress for her performance in \"Minari\" on Sunday and made history by becoming the first Korean actor to win an Academy Award.'\n",
    "# text = 'Korean drama \"U-Yongu Lawyer is a genius skin\", which depicts a new lawyer with autism spectrums, growing, and has a great response in Japan.'\n",
    "text = '\"I was also the perpetrator?\" The problem that the movie asks Utamaru again'\n",
    "text = re.sub('[^a-zA-Z]', ' ', text)\n",
    "text = text.lower()\n",
    "text"
   ]
  },
  {
   "cell_type": "code",
   "execution_count": null,
   "id": "7820f026",
   "metadata": {},
   "outputs": [],
   "source": []
  },
  {
   "cell_type": "code",
   "execution_count": 19,
   "id": "8bf7bb01",
   "metadata": {},
   "outputs": [
    {
     "name": "stdout",
     "output_type": "stream",
     "text": [
      "원래 문장\n",
      "Apple is looking at buying U.K. startup for $1 billion\n",
      "nlkt로 단어 토크나이징\n",
      "['Apple', 'is', 'looking', 'at', 'buying', 'U.K.', 'startup', 'for', '$', '1', 'billion']\n",
      "nlkt로 문장 토크나이징\n",
      "['Apple is looking at buying U.K. startup for $1 billion']\n",
      "spacy로 단어 토크나이징\n",
      "['Apple', 'is', 'looking', 'at', 'buying', 'U.K.', 'startup', 'for', '$', '1', 'billion']\n",
      "spacy로 문장 토크나이징\n",
      "['Apple is looking at buying U.K. startup for $1 billion']\n",
      "PorterStemmer 사용하여 어간추출\n",
      "['appl', 'is', 'look', 'at', 'buy', 'u.k.', 'startup', 'for', '$', '1', 'billion']\n",
      "LancasterStemmer 사용하여 어간추출\n",
      "['appl', 'is', 'look', 'at', 'buy', 'u.k.', 'startup', 'for', '$', '1', 'bil']\n",
      "RegexpStemmer 사용하여 특정 단어 제거\n",
      "['', 'is', 'looking', 'at', 'buying', 'U.K.', 'startup', 'for', '$', '1', 'billion']\n",
      "nltk 품사 태깅\n",
      "[('Apple', 'NNP'), ('is', 'VBZ'), ('looking', 'VBG'), ('at', 'IN'), ('buying', 'VBG'), ('U.K.', 'NNP'), ('startup', 'NN'), ('for', 'IN'), ('$', '$'), ('1', 'CD'), ('billion', 'CD')]\n",
      "spacy 품사 태깅\n",
      "[('Apple', 'NNP'), ('is', 'VBZ'), ('looking', 'VBG'), ('at', 'IN'), ('buying', 'VBG'), ('U.K.', 'NNP'), ('startup', 'VB'), ('for', 'IN'), ('$', '$'), ('1', 'CD'), ('billion', 'CD')]\n"
     ]
    }
   ],
   "source": [
    "import nltk\n",
    "from nltk.tokenize import word_tokenize\n",
    "from nltk.tokenize import sent_tokenize\n",
    "import spacy\n",
    "from spacy.lang.en.examples import sentences\n",
    "nlp = spacy.load('en_core_web_md')\n",
    "#문장 불러오기\n",
    "doc = nlp(sentences[0])\n",
    "print('원래 문장')\n",
    "print(doc.text) #예시문장\n",
    "\n",
    "##### nlkt 토크나이징 #####\n",
    "print('nlkt로 단어 토크나이징')\n",
    "print(word_tokenize(doc.text))\n",
    "\n",
    "print('nlkt로 문장 토크나이징')\n",
    "print(sent_tokenize(doc.text))\n",
    "\n",
    "##### spacy 토크나이징 #####\n",
    "print('spacy로 단어 토크나이징')\n",
    "spacy_word = [word.text for word in doc] #단어\n",
    "print(spacy_word)\n",
    "\n",
    "print('spacy로 문장 토크나이징')\n",
    "spacy_sentence = [sentence.text for sentence in doc.sents] #문장\n",
    "print(spacy_sentence)\n",
    "\n",
    "#### 어간 추출 ####\n",
    "a = word_tokenize(doc.text)\n",
    "from nltk.stem import PorterStemmer, LancasterStemmer, RegexpStemmer\n",
    "porter_stemmer, lancaster_stemmer = PorterStemmer(),LancasterStemmer()\n",
    "porter = [porter_stemmer.stem(i) for i in a]\n",
    "print(\"PorterStemmer 사용하여 어간추출\")\n",
    "print(porter)\n",
    "\n",
    "lancaster = [lancaster_stemmer.stem(i) for i in a]\n",
    "print(\"LancasterStemmer 사용하여 어간추출\")\n",
    "print(lancaster)\n",
    "\n",
    "regexp_stemmer = RegexpStemmer(\"Apple\") # ()안 특정 표현식 일괄 제거\n",
    "regexp = [regexp_stemmer.stem(i) for i in a]\n",
    "print(\"RegexpStemmer 사용하여 특정 단어 제거\")\n",
    "print(regexp)\n",
    "\n",
    "####품사태깅####\n",
    "\n",
    "## nltk ##\n",
    "print('nltk 품사 태깅')\n",
    "print(nltk.pos_tag(a))\n",
    "\n",
    "## spacy ##\n",
    "print('spacy 품사 태깅')\n",
    "tag = [(tag.text ,tag.tag_) for tag in doc]\n",
    "print(tag)"
   ]
  },
  {
   "cell_type": "code",
   "execution_count": null,
   "id": "4b007d7a",
   "metadata": {},
   "outputs": [],
   "source": []
  },
  {
   "cell_type": "code",
   "execution_count": null,
   "id": "2ac93d27",
   "metadata": {},
   "outputs": [],
   "source": []
  }
 ],
 "metadata": {
  "celltoolbar": "Raw Cell Format",
  "kernelspec": {
   "display_name": "Python 3 (ipykernel)",
   "language": "python",
   "name": "python3"
  },
  "language_info": {
   "codemirror_mode": {
    "name": "ipython",
    "version": 3
   },
   "file_extension": ".py",
   "mimetype": "text/x-python",
   "name": "python",
   "nbconvert_exporter": "python",
   "pygments_lexer": "ipython3",
   "version": "3.9.12"
  }
 },
 "nbformat": 4,
 "nbformat_minor": 5
}
